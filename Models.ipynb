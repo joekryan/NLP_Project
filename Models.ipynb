{
 "cells": [
  {
   "cell_type": "code",
   "execution_count": 1,
   "metadata": {},
   "outputs": [
    {
     "name": "stderr",
     "output_type": "stream",
     "text": [
      "[nltk_data] Downloading package stopwords to\n",
      "[nltk_data]     /home/jupyter/nltk_data...\n",
      "[nltk_data]   Package stopwords is already up-to-date!\n",
      "[nltk_data] Downloading package punkt to /home/jupyter/nltk_data...\n",
      "[nltk_data]   Package punkt is already up-to-date!\n",
      "[nltk_data] Downloading package wordnet to /home/jupyter/nltk_data...\n",
      "[nltk_data]   Package wordnet is already up-to-date!\n"
     ]
    },
    {
     "data": {
      "text/plain": [
       "True"
      ]
     },
     "execution_count": 1,
     "metadata": {},
     "output_type": "execute_result"
    }
   ],
   "source": [
    "import pandas as pd\n",
    "import numpy as np\n",
    "from sklearn.datasets import fetch_20newsgroups\n",
    "import nltk\n",
    "import matplotlib.pyplot as plt\n",
    "import seaborn as sns\n",
    "import pandas as pd\n",
    "from sklearn.feature_extraction.text import CountVectorizer\n",
    "from sklearn.feature_extraction.text import TfidfVectorizer\n",
    "from sklearn.feature_extraction.text import TfidfTransformer\n",
    "from nltk.probability import FreqDist\n",
    "from nltk.corpus import stopwords\n",
    "from nltk.stem import PorterStemmer\n",
    "from nltk.stem import WordNetLemmatizer \n",
    "from sklearn.metrics import confusion_matrix\n",
    "import seaborn as sns\n",
    "from sklearn.naive_bayes import MultinomialNB\n",
    "from sklearn import metrics\n",
    "from sklearn.model_selection import train_test_split\n",
    "from matplotlib import cm\n",
    "import numpy as np\n",
    "from sklearn.ensemble import RandomForestClassifier\n",
    "from sklearn.tree import DecisionTreeClassifier\n",
    "from sklearn.model_selection import GridSearchCV\n",
    "from sklearn.metrics import confusion_matrix, make_scorer, precision_score, accuracy_score,f1_score, recall_score\n",
    "from sklearn.naive_bayes import GaussianNB\n",
    "from sklearn.naive_bayes import MultinomialNB\n",
    "from sklearn.linear_model import LogisticRegression\n",
    "from sklearn import tree\n",
    "from sklearn.model_selection import train_test_split\n",
    "from sklearn.model_selection import KFold\n",
    "from nltk.tokenize import RegexpTokenizer\n",
    "from sklearn.pipeline import Pipeline\n",
    "from nltk.corpus import names\n",
    "from collections import defaultdict\n",
    "import re\n",
    "from sklearn.decomposition import TruncatedSVD\n",
    "from sklearn.neighbors import KNeighborsClassifier\n",
    "from sklearn.svm import LinearSVC\n",
    "from xgboost import XGBClassifier\n",
    "from sklearn.linear_model import SGDClassifier\n",
    "import time\n",
    "%matplotlib inline\n",
    "\n",
    "nltk.download('stopwords')\n",
    "nltk.download('punkt')\n",
    "nltk.download('wordnet')"
   ]
  },
  {
   "cell_type": "code",
   "execution_count": 2,
   "metadata": {},
   "outputs": [],
   "source": [
    "#train test validation split\n",
    "\n",
    "# X,y = df.lemmatized,df.target\n",
    "\n",
    "# X_train, X_test, y_train, y_test = train_test_split(X, y, test_size=0.25, random_state=42)\n",
    "\n",
    "# X_train, X_val, y_train, y_val = train_test_split(X_train, y_train, test_size=0.25, random_state=42)"
   ]
  },
  {
   "cell_type": "code",
   "execution_count": 3,
   "metadata": {},
   "outputs": [],
   "source": [
    "df_train = pd.read_csv('train.csv')\n",
    "df_test = pd.read_csv('test.csv')\n",
    "df_val = pd.read_csv('val.csv')"
   ]
  },
  {
   "cell_type": "code",
   "execution_count": 4,
   "metadata": {},
   "outputs": [
    {
     "name": "stdout",
     "output_type": "stream",
     "text": [
      "<class 'pandas.core.frame.DataFrame'>\n",
      "RangeIndex: 4573 entries, 0 to 4572\n",
      "Data columns (total 2 columns):\n",
      " #   Column             Non-Null Count  Dtype \n",
      "---  ------             --------------  ----- \n",
      " 0   preprocessed_text  4573 non-null   object\n",
      " 1   target             4573 non-null   int64 \n",
      "dtypes: int64(1), object(1)\n",
      "memory usage: 71.6+ KB\n"
     ]
    }
   ],
   "source": [
    "df_test.info()"
   ]
  },
  {
   "cell_type": "code",
   "execution_count": 5,
   "metadata": {},
   "outputs": [],
   "source": [
    "df_list = [df_train,df_test,df_val]\n",
    "for df in df_list:\n",
    "    df.astype({'target': 'int32'}).dtypes"
   ]
  },
  {
   "cell_type": "code",
   "execution_count": 6,
   "metadata": {},
   "outputs": [
    {
     "name": "stdout",
     "output_type": "stream",
     "text": [
      "<class 'pandas.core.frame.DataFrame'>\n",
      "RangeIndex: 10287 entries, 0 to 10286\n",
      "Data columns (total 2 columns):\n",
      " #   Column             Non-Null Count  Dtype \n",
      "---  ------             --------------  ----- \n",
      " 0   preprocessed_text  10287 non-null  object\n",
      " 1   target             10287 non-null  int64 \n",
      "dtypes: int64(1), object(1)\n",
      "memory usage: 160.9+ KB\n"
     ]
    }
   ],
   "source": [
    "df_train.info()"
   ]
  },
  {
   "cell_type": "code",
   "execution_count": 7,
   "metadata": {},
   "outputs": [],
   "source": [
    "X_train, y_train = df_train['preprocessed_text'], df_train['target']\n",
    "X_test, y_test = df_test['preprocessed_text'], df_test['target']\n",
    "X_val, y_val = df_val['preprocessed_text'], df_val['target']"
   ]
  },
  {
   "cell_type": "code",
   "execution_count": 8,
   "metadata": {},
   "outputs": [],
   "source": [
    "df_train_pos = pd.read_csv('Data/train_pos.csv')\n",
    "df_test_pos = pd.read_csv('Data/test_pos.csv')\n",
    "df_val_pos = pd.read_csv('Data/val_pos.csv')"
   ]
  },
  {
   "cell_type": "code",
   "execution_count": 9,
   "metadata": {},
   "outputs": [],
   "source": [
    "X_train_pos, y_train_pos = df_train_pos['lemmatized_and_pos'], df_train_pos['target']\n",
    "X_test_pos, y_test_pos = df_test_pos['lemmatized_and_pos'], df_test_pos['target']\n",
    "X_val_pos, y_val_pos = df_val_pos['lemmatized_and_pos'], df_val_pos['target']"
   ]
  },
  {
   "cell_type": "code",
   "execution_count": 10,
   "metadata": {},
   "outputs": [
    {
     "name": "stdout",
     "output_type": "stream",
     "text": [
      "Fitting 5 folds for each of 360 candidates, totalling 1800 fits\n"
     ]
    },
    {
     "name": "stderr",
     "output_type": "stream",
     "text": [
      "[Parallel(n_jobs=-1)]: Using backend LokyBackend with 8 concurrent workers.\n",
      "[Parallel(n_jobs=-1)]: Done  34 tasks      | elapsed:    9.0s\n",
      "[Parallel(n_jobs=-1)]: Done 184 tasks      | elapsed:  1.6min\n",
      "[Parallel(n_jobs=-1)]: Done 434 tasks      | elapsed:  3.9min\n",
      "[Parallel(n_jobs=-1)]: Done 784 tasks      | elapsed:  8.2min\n",
      "[Parallel(n_jobs=-1)]: Done 1234 tasks      | elapsed: 14.8min\n",
      "[Parallel(n_jobs=-1)]: Done 1784 tasks      | elapsed: 32.1min\n",
      "[Parallel(n_jobs=-1)]: Done 1800 out of 1800 | elapsed: 32.4min finished\n"
     ]
    },
    {
     "name": "stdout",
     "output_type": "stream",
     "text": [
      "Best accuracy: 0.710\n",
      "\n",
      "Best params:\n",
      " {'clf__C': 1, 'clf__max_iter': 110, 'clf__penalty': 'l2', 'clf__solver': 'sag', 'clf__tol': 0.0005}\n"
     ]
    }
   ],
   "source": [
    "#pipeline for logistic regression\n",
    "\n",
    "pipe_logreg = Pipeline([\n",
    "     ('tfidf', TfidfVectorizer(min_df=10)),\n",
    "    ('clf', LogisticRegression())\n",
    "])\n",
    "\n",
    "parameters_logreg = {\n",
    "#     'tfidf__min_df': [0.001],\n",
    "#     'tfidf__max_df': [0.5,0.75,1],\n",
    "#     'tfidf__max_features': [None, 5000, 10000, 50000],\n",
    "#     'tfidf__ngram_range': [(1,1)],  # unigrams or bigrams\n",
    "    \"clf__C\": [0.1,1,10],\n",
    "#     \"clf__class_weight\": ['balanced'],\n",
    "    \"clf__solver\": ['newton-cg','lbfgs','sag','saga'],\n",
    "    \"clf__max_iter\":[80,90,100,110,120],\n",
    "#     \"clf__multi_class\":['multinomial','ovr'],\n",
    "    \"clf__penalty\": ['l1','l2'],\n",
    "    'clf__tol':[0.00005,0.0001, 0.0005]\n",
    "}\n",
    "\n",
    "gs_logreg = GridSearchCV(estimator=pipe_logreg,\n",
    "            param_grid=parameters_logreg,\n",
    "            scoring='accuracy',\n",
    "            cv=KFold(5,shuffle=True,random_state=42), \n",
    "            return_train_score = True, verbose=1,n_jobs=-1)\n",
    "\n",
    "# Fit using grid search\n",
    "best_model = gs_logreg.fit(X_train, y_train)\n",
    "\n",
    "# Best accuracy\n",
    "print('Best accuracy: %.3f' % gs_logreg.best_score_)\n",
    "\n",
    "# Best params\n",
    "print('\\nBest params:\\n', gs_logreg.best_params_)"
   ]
  },
  {
   "cell_type": "code",
   "execution_count": 11,
   "metadata": {},
   "outputs": [
    {
     "name": "stdout",
     "output_type": "stream",
     "text": [
      "Fitting 5 folds for each of 360 candidates, totalling 1800 fits\n"
     ]
    },
    {
     "name": "stderr",
     "output_type": "stream",
     "text": [
      "[Parallel(n_jobs=-1)]: Using backend LokyBackend with 8 concurrent workers.\n",
      "[Parallel(n_jobs=-1)]: Done  34 tasks      | elapsed:   20.8s\n",
      "[Parallel(n_jobs=-1)]: Done 184 tasks      | elapsed:  4.5min\n",
      "[Parallel(n_jobs=-1)]: Done 434 tasks      | elapsed: 10.8min\n",
      "[Parallel(n_jobs=-1)]: Done 784 tasks      | elapsed: 21.0min\n",
      "[Parallel(n_jobs=-1)]: Done 1234 tasks      | elapsed: 36.2min\n",
      "[Parallel(n_jobs=-1)]: Done 1784 tasks      | elapsed: 69.6min\n",
      "[Parallel(n_jobs=-1)]: Done 1800 out of 1800 | elapsed: 70.5min finished\n"
     ]
    },
    {
     "name": "stdout",
     "output_type": "stream",
     "text": [
      "Best accuracy: 0.836\n",
      "\n",
      "Best params:\n",
      " {'clf__C': 10, 'clf__max_iter': 90, 'clf__penalty': 'l2', 'clf__solver': 'lbfgs', 'clf__tol': 5e-05}\n"
     ]
    },
    {
     "name": "stderr",
     "output_type": "stream",
     "text": [
      "/opt/conda/lib/python3.7/site-packages/sklearn/linear_model/_logistic.py:940: ConvergenceWarning: lbfgs failed to converge (status=1):\n",
      "STOP: TOTAL NO. of ITERATIONS REACHED LIMIT.\n",
      "\n",
      "Increase the number of iterations (max_iter) or scale the data as shown in:\n",
      "    https://scikit-learn.org/stable/modules/preprocessing.html\n",
      "Please also refer to the documentation for alternative solver options:\n",
      "    https://scikit-learn.org/stable/modules/linear_model.html#logistic-regression\n",
      "  extra_warning_msg=_LOGISTIC_SOLVER_CONVERGENCE_MSG)\n"
     ]
    }
   ],
   "source": [
    "#pipeline for logistic regression\n",
    "\n",
    "pipe_logreg_pos = Pipeline([\n",
    "     ('tfidf', TfidfVectorizer(min_df=10)),\n",
    "    ('clf', LogisticRegression())\n",
    "])\n",
    "\n",
    "parameters_logreg_pos = {\n",
    "#     'tfidf__min_df': [0.001],\n",
    "#     'tfidf__max_df': [0.5,0.75,1],\n",
    "#     'tfidf__max_features': [None, 5000, 10000, 50000],\n",
    "#     'tfidf__ngram_range': [(1,1)],  # unigrams or bigrams\n",
    "    \"clf__C\": [0.1,1,10],\n",
    "#     \"clf__class_weight\": ['balanced'],\n",
    "    \"clf__solver\": ['newton-cg','lbfgs','sag','saga'],\n",
    "    \"clf__max_iter\":[80,90,100,110,120],\n",
    "#     \"clf__multi_class\":['multinomial','ovr'],\n",
    "    \"clf__penalty\": ['l1','l2'],\n",
    "    'clf__tol':[0.00005,0.0001, 0.0005]\n",
    "}\n",
    "\n",
    "gs_logreg_pos = GridSearchCV(estimator=pipe_logreg_pos,\n",
    "            param_grid=parameters_logreg_pos,\n",
    "            scoring='accuracy',\n",
    "            cv=KFold(5,shuffle=True,random_state=42), \n",
    "            return_train_score = True, verbose=1,n_jobs=-1)\n",
    "\n",
    "# Fit using grid search\n",
    "best_model = gs_logreg_pos.fit(X_train_pos, y_train_pos)\n",
    "\n",
    "# Best accuracy\n",
    "print('Best accuracy: %.3f' % gs_logreg_pos.best_score_)\n",
    "\n",
    "# Best params\n",
    "print('\\nBest params:\\n', gs_logreg_pos.best_params_)"
   ]
  },
  {
   "cell_type": "code",
   "execution_count": 12,
   "metadata": {},
   "outputs": [
    {
     "name": "stderr",
     "output_type": "stream",
     "text": [
      "[Parallel(n_jobs=-1)]: Using backend LokyBackend with 8 concurrent workers.\n"
     ]
    },
    {
     "name": "stdout",
     "output_type": "stream",
     "text": [
      "Fitting 5 folds for each of 9 candidates, totalling 45 fits\n"
     ]
    },
    {
     "name": "stderr",
     "output_type": "stream",
     "text": [
      "[Parallel(n_jobs=-1)]: Done  45 out of  45 | elapsed:   44.0s finished\n"
     ]
    },
    {
     "name": "stdout",
     "output_type": "stream",
     "text": [
      "Best accuracy: 0.495\n",
      "\n",
      "Best params:\n",
      " {'clf__criterion': 'gini', 'clf__max_depth': 500, 'clf__min_samples_split': 150, 'tfidf__ngram_range': (1, 1)}\n"
     ]
    }
   ],
   "source": [
    "#pipeline for decision tree\n",
    "\n",
    "pipe_tree = Pipeline([\n",
    "     ('tfidf', TfidfVectorizer(min_df=10)),\n",
    "    ('clf', DecisionTreeClassifier())\n",
    "])\n",
    "parameters_tree = {\n",
    "#     'tfidf__min_df': [0.001],\n",
    "#     'tfidf__max_df': [0.75],\n",
    "    'tfidf__ngram_range': [(1, 1)],  # unigrams or bigrams\n",
    "    \"clf__criterion\": [\"gini\"],\n",
    "    \"clf__max_depth\":[250,300,500],\n",
    "    \"clf__min_samples_split\" : [150,200,250]\n",
    "}\n",
    "\n",
    "gs_tree = GridSearchCV(estimator=pipe_tree,\n",
    "            param_grid=parameters_tree,\n",
    "            scoring='accuracy',\n",
    "            cv=KFold(5,shuffle=True,random_state=42), \n",
    "            return_train_score = True, verbose=1,n_jobs=-1)\n",
    "\n",
    "# Fit using grid search\n",
    "best_model = gs_tree.fit(X_train, y_train)\n",
    "\n",
    "# Best accuracy\n",
    "print('Best accuracy: %.3f' % gs_tree.best_score_)\n",
    "\n",
    "# Best params\n",
    "print('\\nBest params:\\n', gs_tree.best_params_)"
   ]
  },
  {
   "cell_type": "code",
   "execution_count": 13,
   "metadata": {},
   "outputs": [],
   "source": [
    "#pipeline for random forest\n",
    "\n",
    "# pipe_rf = Pipeline([\n",
    "#      ('tfidf', TfidfVectorizer(min_df=10)),\n",
    "#     ('clf', RandomForestClassifier())\n",
    "# ])\n",
    "# parameters_rf = {\n",
    "#     'tfidf__min_df': [3,5,10],\n",
    "#     'tfidf__max_df': [0.5, 0.75, 1.0],\n",
    "#     'tfidf__ngram_range': [(1, 1), (1, 2)],  # unigrams or bigrams\n",
    "#     \"clf__criterion\": [\"gini\", \"entropy\"],\n",
    "#     \"clf__max_depth\":[75,100,150],\n",
    "#     \"clf__min_samples_split\" : [75,100,150]\n",
    "# }\n",
    "\n",
    "# gs_rf = GridSearchCV(estimator=pipe_rf,\n",
    "#             param_grid=parameters_rf,\n",
    "#             scoring='accuracy',\n",
    "#             cv=KFold(5,shuffle=True,random_state=42), \n",
    "#             return_train_score = True, verbose=1,n_jobs=-1)\n",
    "\n",
    "# # Fit using grid search\n",
    "# best_model = gs_rf.fit(X_train, y_train)\n",
    "\n",
    "# # Best accuracy\n",
    "# print('Best accuracy: %.3f' % gs_rf.best_score_)\n",
    "\n",
    "# # Best params\n",
    "# print('\\nBest params:\\n', gs_rf.best_params_)"
   ]
  },
  {
   "cell_type": "code",
   "execution_count": null,
   "metadata": {},
   "outputs": [],
   "source": []
  },
  {
   "cell_type": "code",
   "execution_count": 14,
   "metadata": {},
   "outputs": [
    {
     "name": "stdout",
     "output_type": "stream",
     "text": [
      "Fitting 5 folds for each of 3 candidates, totalling 15 fits\n"
     ]
    },
    {
     "name": "stderr",
     "output_type": "stream",
     "text": [
      "[Parallel(n_jobs=-1)]: Using backend LokyBackend with 8 concurrent workers.\n",
      "[Parallel(n_jobs=-1)]: Done  15 out of  15 | elapsed:    6.4s finished\n"
     ]
    },
    {
     "name": "stdout",
     "output_type": "stream",
     "text": [
      "Best accuracy: 0.713\n",
      "\n",
      "Best params:\n",
      " {'clf__alpha': 0.1}\n"
     ]
    }
   ],
   "source": [
    "#pipeline for NaiveBayes\n",
    "\n",
    "pipe_nb = Pipeline([\n",
    "    ('tfidf', TfidfVectorizer(min_df=10)),\n",
    "    ('clf',   MultinomialNB()),\n",
    "])\n",
    "\n",
    "parameters_nb = {\n",
    "#     'vect__ngram_range': [(1,1),(1,2)],\n",
    "#     'vect__min_df': [0.001],\n",
    "    'clf__alpha': [0.01,0.05,0.1]\n",
    "#     'tfidf__min_df': [0.001]\n",
    "#     'tfidf__max_df': [0.5, 0.75, 1.0],\n",
    "#     'tfidf__ngram_range': [(1, 1), (1, 2)]  # unigrams or bigrams\n",
    "\n",
    "}\n",
    "\n",
    "gs_nb = GridSearchCV(estimator=pipe_nb,\n",
    "            param_grid=parameters_nb,\n",
    "            scoring='accuracy',\n",
    "            cv=KFold(5,shuffle=True,random_state=42), \n",
    "            return_train_score = True, verbose=1,n_jobs=-1)\n",
    "\n",
    "# Fit using grid search\n",
    "best_model = gs_nb.fit(X_train, y_train)\n",
    "\n",
    "# Best accuracy\n",
    "print('Best accuracy: %.3f' % gs_nb.best_score_)\n",
    "#\n",
    "# # # Best params\n",
    "print('\\nBest params:\\n', gs_nb.best_params_)\n",
    "\n",
    "# from sklearn.model_selection import cross_val_score\n",
    "# scores = cross_val_score(pipe_nb, X_train, y_train, cv=5, scoring='accuracy')"
   ]
  },
  {
   "cell_type": "code",
   "execution_count": 15,
   "metadata": {},
   "outputs": [
    {
     "name": "stdout",
     "output_type": "stream",
     "text": [
      "Fitting 5 folds for each of 3 candidates, totalling 15 fits\n"
     ]
    },
    {
     "name": "stderr",
     "output_type": "stream",
     "text": [
      "[Parallel(n_jobs=-1)]: Using backend LokyBackend with 8 concurrent workers.\n",
      "[Parallel(n_jobs=-1)]: Done  15 out of  15 | elapsed:   16.4s finished\n"
     ]
    },
    {
     "name": "stdout",
     "output_type": "stream",
     "text": [
      "Best accuracy: 0.830\n",
      "\n",
      "Best params:\n",
      " {'clf__alpha': 0.1}\n"
     ]
    }
   ],
   "source": [
    "#pipeline for NaiveBayes pos_tag\n",
    "\n",
    "pipe_nb_pos = Pipeline([\n",
    "    ('tfidf', TfidfVectorizer(min_df=10)),\n",
    "    ('clf',   MultinomialNB()),\n",
    "])\n",
    "\n",
    "parameters_nb_pos = {\n",
    "#     'vect__ngram_range': [(1,1),(1,2)],\n",
    "#     'vect__min_df': [0.001],\n",
    "    'clf__alpha': [0.01,0.05,0.1]\n",
    "#     'tfidf__min_df': [0.001]\n",
    "#     'tfidf__max_df': [0.5, 0.75, 1.0],\n",
    "#     'tfidf__ngram_range': [(1, 1), (1, 2)]  # unigrams or bigrams\n",
    "\n",
    "}\n",
    "\n",
    "gs_nb_pos = GridSearchCV(estimator=pipe_nb_pos,\n",
    "            param_grid=parameters_nb_pos,\n",
    "            scoring='accuracy',\n",
    "            cv=KFold(5,shuffle=True,random_state=42), \n",
    "            return_train_score = True, verbose=1,n_jobs=-1)\n",
    "\n",
    "# Fit using grid search\n",
    "best_model = gs_nb_pos.fit(X_train_pos, y_train_pos)\n",
    "\n",
    "# Best accuracy\n",
    "print('Best accuracy: %.3f' % gs_nb_pos.best_score_)\n",
    "#\n",
    "# # # Best params\n",
    "print('\\nBest params:\\n', gs_nb_pos.best_params_)\n",
    "\n",
    "# from sklearn.model_selection import cross_val_score\n",
    "# scores = cross_val_score(pipe_nb, X_train, y_train, cv=5, scoring='accuracy')"
   ]
  },
  {
   "cell_type": "code",
   "execution_count": 16,
   "metadata": {},
   "outputs": [
    {
     "name": "stdout",
     "output_type": "stream",
     "text": [
      "Fitting 5 folds for each of 18 candidates, totalling 90 fits\n"
     ]
    },
    {
     "name": "stderr",
     "output_type": "stream",
     "text": [
      "[Parallel(n_jobs=-1)]: Using backend LokyBackend with 8 concurrent workers.\n",
      "/opt/conda/lib/python3.7/site-packages/joblib/externals/loky/process_executor.py:706: UserWarning: A worker stopped while some jobs were given to the executor. This can be caused by a too short worker timeout or by a memory leak.\n",
      "  \"timeout or by a memory leak.\", UserWarning\n",
      "[Parallel(n_jobs=-1)]: Done  34 tasks      | elapsed:  8.6min\n",
      "[Parallel(n_jobs=-1)]: Done  90 out of  90 | elapsed: 19.2min finished\n"
     ]
    },
    {
     "name": "stdout",
     "output_type": "stream",
     "text": [
      "Best accuracy: 0.691\n",
      "\n",
      "Best params:\n",
      " {'clf__C': 1, 'clf__class_weight': 'balanced', 'clf__decision_function_shape': 'ovo', 'clf__gamma': 1e-07, 'clf__kernel': 'linear', 'tfidf__ngram_range': (1, 2)}\n"
     ]
    }
   ],
   "source": [
    "#pipeline for svm\n",
    "from sklearn.svm import SVC\n",
    "pipe_svm = Pipeline([\n",
    "    ('tfidf', TfidfVectorizer(min_df=10)),\n",
    "    ('clf',   SVC()),\n",
    "])\n",
    "\n",
    "parameters_svm = {\n",
    "#     'vect__min_df': [0.001],\n",
    "#     'tfidf__max_df': [0.5, 0.75, 1.0],\n",
    "    'tfidf__ngram_range': [(1,1),(1, 2)],  # unigrams or bigrams\n",
    "    \"clf__C\": [0.1,1,10],\n",
    "    \"clf__kernel\":['linear'],\n",
    "    \"clf__class_weight\" : ['balanced'],\n",
    "    \"clf__decision_function_shape\":['ovo'],\n",
    "    \"clf__gamma\":[1e-07,1e-06,1e-05]\n",
    "}\n",
    "\n",
    "gs_svm = GridSearchCV(estimator=pipe_svm,\n",
    "            param_grid=parameters_svm,\n",
    "            scoring='accuracy',\n",
    "            cv=KFold(5,shuffle=True,random_state=42), \n",
    "            return_train_score = True, verbose=1,n_jobs=-1)\n",
    "\n",
    "# Fit using grid search\n",
    "best_model = gs_svm.fit(X_train, y_train)\n",
    "\n",
    "# Best accuracy\n",
    "print('Best accuracy: %.3f' % gs_svm.best_score_)\n",
    "\n",
    "# Best params\n",
    "print('\\nBest params:\\n', gs_svm.best_params_)"
   ]
  },
  {
   "cell_type": "code",
   "execution_count": 17,
   "metadata": {},
   "outputs": [
    {
     "name": "stdout",
     "output_type": "stream",
     "text": [
      "Fitting 5 folds for each of 18 candidates, totalling 90 fits\n"
     ]
    },
    {
     "name": "stderr",
     "output_type": "stream",
     "text": [
      "[Parallel(n_jobs=-1)]: Using backend LokyBackend with 8 concurrent workers.\n",
      "[Parallel(n_jobs=-1)]: Done  34 tasks      | elapsed: 18.1min\n",
      "[Parallel(n_jobs=-1)]: Done  90 out of  90 | elapsed: 42.6min finished\n"
     ]
    },
    {
     "name": "stdout",
     "output_type": "stream",
     "text": [
      "Best accuracy: 0.834\n",
      "\n",
      "Best params:\n",
      " {'clf__C': 1, 'clf__class_weight': 'balanced', 'clf__decision_function_shape': 'ovo', 'clf__gamma': 1e-07, 'clf__kernel': 'linear', 'tfidf__ngram_range': (1, 2)}\n"
     ]
    }
   ],
   "source": [
    "#pipeline for svm pos_tag\n",
    "from sklearn.svm import SVC\n",
    "pipe_svm_pos = Pipeline([\n",
    "    ('tfidf', TfidfVectorizer(min_df=10)),\n",
    "    ('clf',   SVC()),\n",
    "])\n",
    "\n",
    "parameters_svm_pos = {\n",
    "#     'vect__min_df': [0.001],\n",
    "#     'tfidf__max_df': [0.5, 0.75, 1.0],\n",
    "    'tfidf__ngram_range': [(1,1),(1, 2)],  # unigrams or bigrams\n",
    "    \"clf__C\": [0.1,1,10],\n",
    "    \"clf__kernel\":['linear'],\n",
    "    \"clf__class_weight\" : ['balanced'],\n",
    "    \"clf__decision_function_shape\":['ovo'],\n",
    "    \"clf__gamma\":[1e-07,1e-06,1e-05]\n",
    "}\n",
    "\n",
    "gs_svm_pos = GridSearchCV(estimator=pipe_svm_pos,\n",
    "            param_grid=parameters_svm_pos,\n",
    "            scoring='accuracy',\n",
    "            cv=KFold(5,shuffle=True,random_state=42), \n",
    "            return_train_score = True, verbose=1,n_jobs=-1)\n",
    "\n",
    "# Fit using grid search\n",
    "best_model = gs_svm_pos.fit(X_train_pos, y_train_pos)\n",
    "\n",
    "# Best accuracy\n",
    "print('Best accuracy: %.3f' % gs_svm_pos.best_score_)\n",
    "\n",
    "# Best params\n",
    "print('\\nBest params:\\n', gs_svm_pos.best_params_)"
   ]
  },
  {
   "cell_type": "code",
   "execution_count": 18,
   "metadata": {},
   "outputs": [
    {
     "name": "stdout",
     "output_type": "stream",
     "text": [
      "Fitting 5 folds for each of 12 candidates, totalling 60 fits\n"
     ]
    },
    {
     "name": "stderr",
     "output_type": "stream",
     "text": [
      "[Parallel(n_jobs=-1)]: Using backend LokyBackend with 8 concurrent workers.\n",
      "/opt/conda/lib/python3.7/site-packages/joblib/externals/loky/process_executor.py:706: UserWarning: A worker stopped while some jobs were given to the executor. This can be caused by a too short worker timeout or by a memory leak.\n",
      "  \"timeout or by a memory leak.\", UserWarning\n",
      "[Parallel(n_jobs=-1)]: Done  34 tasks      | elapsed:  3.3min\n",
      "[Parallel(n_jobs=-1)]: Done  60 out of  60 | elapsed:  5.3min finished\n"
     ]
    },
    {
     "name": "stdout",
     "output_type": "stream",
     "text": [
      "Best accuracy: 0.647\n",
      "\n",
      "Best params:\n",
      " {'clf__criterion': 'gini', 'clf__max_depth': 1000, 'clf__min_samples_split': 40, 'tfidf__ngram_range': (1, 2)}\n"
     ]
    }
   ],
   "source": [
    "#pipeline for random forest take 2\n",
    "\n",
    "pipe_rf2 = Pipeline([\n",
    "     ('tfidf', TfidfVectorizer(min_df=10)),\n",
    "    ('clf', RandomForestClassifier())\n",
    "])\n",
    "parameters_rf2 = {\n",
    "#     'tfidf__min_df': [0.001],\n",
    "#     'tfidf__max_df': [1.0],\n",
    "    'tfidf__ngram_range': [(1,1),(1, 2)],  #bigrams\n",
    "    \"clf__criterion\": [\"gini\"],\n",
    "    \"clf__max_depth\":[500,1000],\n",
    "    \"clf__min_samples_split\" : [20,30,40]\n",
    "}\n",
    "\n",
    "gs_rf2 = GridSearchCV(estimator=pipe_rf2,\n",
    "            param_grid=parameters_rf2,\n",
    "            scoring='accuracy',\n",
    "            cv=KFold(5,shuffle=True,random_state=42), \n",
    "            return_train_score = True, verbose=1,n_jobs=-1)\n",
    "\n",
    "# Fit using grid search\n",
    "best_model = gs_rf2.fit(X_train, y_train)\n",
    "\n",
    "# Best accuracy\n",
    "print('Best accuracy: %.3f' % gs_rf2.best_score_)\n",
    "\n",
    "# Best params\n",
    "print('\\nBest params:\\n', gs_rf2.best_params_)"
   ]
  },
  {
   "cell_type": "code",
   "execution_count": null,
   "metadata": {},
   "outputs": [],
   "source": []
  },
  {
   "cell_type": "code",
   "execution_count": 19,
   "metadata": {},
   "outputs": [
    {
     "name": "stdout",
     "output_type": "stream",
     "text": [
      "Fitting 5 folds for each of 3 candidates, totalling 15 fits\n"
     ]
    },
    {
     "name": "stderr",
     "output_type": "stream",
     "text": [
      "[Parallel(n_jobs=-1)]: Using backend LokyBackend with 8 concurrent workers.\n",
      "[Parallel(n_jobs=-1)]: Done  15 out of  15 | elapsed:   40.3s finished\n"
     ]
    },
    {
     "name": "stdout",
     "output_type": "stream",
     "text": [
      "Best accuracy: 0.250\n",
      "\n",
      "Best params:\n",
      " {'clf__metric': 'minkowski', 'clf__n_neighbors': 15}\n"
     ]
    }
   ],
   "source": [
    "#pipeline for knn\n",
    "\n",
    "pipe_knn = Pipeline([\n",
    "    ('tfidf', TfidfVectorizer(min_df=10)),\n",
    "    ('clf',   KNeighborsClassifier()),\n",
    "])\n",
    "\n",
    "parameters_knn = {\n",
    "#     'tfidf__min_df': [0.001],\n",
    "#     'tfidf__max_df': [0.5, 0.75, 1.0],\n",
    "#     'tfidf__ngram_range': [(1,1),(1, 2)],  #  bigrams\n",
    "#     \"svd__n_components\": [50,75,100],\n",
    "    \"clf__n_neighbors\": [5,10,15],\n",
    "    \"clf__metric\": ['minkowski']\n",
    "}\n",
    "\n",
    "gs_knn = GridSearchCV(estimator=pipe_knn,\n",
    "            param_grid=parameters_knn,\n",
    "            scoring='accuracy',\n",
    "            cv=KFold(5,shuffle=True,random_state=42), \n",
    "            return_train_score = True, verbose=1,n_jobs=-1)\n",
    "\n",
    "# Fit using grid search\n",
    "best_model = gs_knn.fit(X_train, y_train)\n",
    "\n",
    "# Best accuracy\n",
    "print('Best accuracy: %.3f' % gs_knn.best_score_)\n",
    "\n",
    "# Best params\n",
    "print('\\nBest params:\\n', gs_knn.best_params_)"
   ]
  },
  {
   "cell_type": "code",
   "execution_count": 20,
   "metadata": {},
   "outputs": [
    {
     "name": "stdout",
     "output_type": "stream",
     "text": [
      "Fitting 5 folds for each of 27 candidates, totalling 135 fits\n"
     ]
    },
    {
     "name": "stderr",
     "output_type": "stream",
     "text": [
      "[Parallel(n_jobs=-1)]: Using backend LokyBackend with 8 concurrent workers.\n",
      "[Parallel(n_jobs=-1)]: Done  34 tasks      | elapsed:   44.0s\n",
      "[Parallel(n_jobs=-1)]: Done 135 out of 135 | elapsed:  3.1min finished\n"
     ]
    },
    {
     "name": "stdout",
     "output_type": "stream",
     "text": [
      "Best accuracy: 0.698\n",
      "\n",
      "Best params:\n",
      " {'clf__alpha': 0.001, 'clf__loss': 'hinge', 'clf__penalty': 'l2'}\n"
     ]
    }
   ],
   "source": [
    "#pipeline for SGD\n",
    "\n",
    "pipe_sgd = Pipeline([\n",
    "    ('tfidf', TfidfVectorizer(min_df=10)),\n",
    "    ('clf',   SGDClassifier()),\n",
    "])\n",
    "\n",
    "parameters_sgd = {\n",
    "#     'vect__min_df': [0.001],\n",
    "#     'tfidf__max_df': [0.5, 0.75, 1.0],\n",
    "#     'vect__ngram_range': [(1,1),(1, 2)],  #  bigrams\n",
    "#     \"clf__n_neighbors\": [5,10,15],\n",
    "#     \"clf__metric\": ['minkowski']\n",
    "    \"clf__penalty\": ['l2','l1','elasticnet'],\n",
    "    \"clf__loss\":['hinge','log','perceptron'],\n",
    "    \"clf__alpha\":[1e-3,1e-2,1e-1]\n",
    "}\n",
    "\n",
    "gs_sgd = GridSearchCV(estimator=pipe_sgd,\n",
    "            param_grid=parameters_sgd,\n",
    "            scoring='accuracy',\n",
    "            cv=KFold(5,shuffle=True,random_state=42), \n",
    "            return_train_score = True, verbose=1,n_jobs=-1)\n",
    "\n",
    "# Fit using grid search\n",
    "best_model = gs_sgd.fit(X_train, y_train)\n",
    "\n",
    "# Best accuracy\n",
    "print('Best accuracy: %.3f' % gs_sgd.best_score_)\n",
    "\n",
    "# Best params\n",
    "print('\\nBest params:\\n', gs_sgd.best_params_)"
   ]
  },
  {
   "cell_type": "code",
   "execution_count": 21,
   "metadata": {},
   "outputs": [
    {
     "name": "stdout",
     "output_type": "stream",
     "text": [
      "Fitting 5 folds for each of 27 candidates, totalling 135 fits\n"
     ]
    },
    {
     "name": "stderr",
     "output_type": "stream",
     "text": [
      "[Parallel(n_jobs=-1)]: Using backend LokyBackend with 8 concurrent workers.\n",
      "/opt/conda/lib/python3.7/site-packages/joblib/externals/loky/process_executor.py:706: UserWarning: A worker stopped while some jobs were given to the executor. This can be caused by a too short worker timeout or by a memory leak.\n",
      "  \"timeout or by a memory leak.\", UserWarning\n",
      "[Parallel(n_jobs=-1)]: Done  34 tasks      | elapsed:  1.9min\n",
      "[Parallel(n_jobs=-1)]: Done 135 out of 135 | elapsed:  7.8min finished\n"
     ]
    },
    {
     "name": "stdout",
     "output_type": "stream",
     "text": [
      "Best accuracy: 0.807\n",
      "\n",
      "Best params:\n",
      " {'clf__alpha': 0.001, 'clf__loss': 'hinge', 'clf__penalty': 'l2'}\n"
     ]
    }
   ],
   "source": [
    "#pipeline for SGD pos_tag\n",
    "\n",
    "pipe_sgd_pos = Pipeline([\n",
    "    ('tfidf', TfidfVectorizer(min_df=10)),\n",
    "    ('clf',   SGDClassifier()),\n",
    "])\n",
    "\n",
    "parameters_sgd_pos = {\n",
    "#     'vect__min_df': [0.001],\n",
    "#     'tfidf__max_df': [0.5, 0.75, 1.0],\n",
    "#     'vect__ngram_range': [(1,1),(1, 2)],  #  bigrams\n",
    "#     \"clf__n_neighbors\": [5,10,15],\n",
    "#     \"clf__metric\": ['minkowski']\n",
    "    \"clf__penalty\": ['l2','l1','elasticnet'],\n",
    "    \"clf__loss\":['hinge','log','perceptron'],\n",
    "    \"clf__alpha\":[1e-3,1e-2,1e-1]\n",
    "}\n",
    "\n",
    "gs_sgd_pos = GridSearchCV(estimator=pipe_sgd_pos,\n",
    "            param_grid=parameters_sgd_pos,\n",
    "            scoring='accuracy',\n",
    "            cv=KFold(5,shuffle=True,random_state=42), \n",
    "            return_train_score = True, verbose=1,n_jobs=-1)\n",
    "\n",
    "# Fit using grid search-pos\n",
    "best_model = gs_sgd_pos.fit(X_train_pos, y_train_pos)\n",
    "\n",
    "# Best accuracy\n",
    "print('Best accuracy: %.3f' % gs_sgd_pos.best_score_)\n",
    "\n",
    "# Best params\n",
    "print('\\nBest params:\\n', gs_sgd_pos.best_params_)"
   ]
  },
  {
   "cell_type": "code",
   "execution_count": 22,
   "metadata": {},
   "outputs": [
    {
     "name": "stdout",
     "output_type": "stream",
     "text": [
      "Fitting 5 folds for each of 48 candidates, totalling 240 fits\n"
     ]
    },
    {
     "name": "stderr",
     "output_type": "stream",
     "text": [
      "[Parallel(n_jobs=-1)]: Using backend LokyBackend with 8 concurrent workers.\n",
      "[Parallel(n_jobs=-1)]: Done  34 tasks      | elapsed:   32.3s\n",
      "[Parallel(n_jobs=-1)]: Done 184 tasks      | elapsed:  2.5min\n",
      "[Parallel(n_jobs=-1)]: Done 240 out of 240 | elapsed:  3.1min finished\n"
     ]
    },
    {
     "name": "stdout",
     "output_type": "stream",
     "text": [
      "Best accuracy: 0.716\n",
      "\n",
      "Best params:\n",
      " {'clf__C': 0.2, 'clf__loss': 'squared_hinge', 'clf__penalty': 'l2', 'clf__tol': 1e-05}\n"
     ]
    }
   ],
   "source": [
    "#pipeline for SVC\n",
    "\n",
    "pipe_svc = Pipeline([\n",
    "    ('tfidf', TfidfVectorizer(min_df=10)),\n",
    "    ('clf',   LinearSVC()),\n",
    "])\n",
    "\n",
    "parameters_svc = {\n",
    "    \"clf__penalty\": ['l2','l1'],\n",
    "    \"clf__loss\":['hinge','squared_hinge'],\n",
    "    \"clf__C\":[0.05,0.1,0.2,0.3],\n",
    "    \"clf__tol\":[1e-5,1e-4,1e-4]\n",
    "}\n",
    "\n",
    "gs_svc = GridSearchCV(estimator=pipe_svc,\n",
    "            param_grid=parameters_svc,\n",
    "            scoring='accuracy',\n",
    "            cv=KFold(5,shuffle=True,random_state=42), \n",
    "            return_train_score = True, verbose=1,n_jobs=-1)\n",
    "\n",
    "# Fit using grid search\n",
    "best_model = gs_svc.fit(X_train, y_train)\n",
    "\n",
    "# Best accuracy\n",
    "print('Best accuracy: %.3f' % gs_svc.best_score_)\n",
    "\n",
    "# Best params\n",
    "print('\\nBest params:\\n', gs_svc.best_params_)"
   ]
  },
  {
   "cell_type": "code",
   "execution_count": 23,
   "metadata": {},
   "outputs": [
    {
     "name": "stdout",
     "output_type": "stream",
     "text": [
      "Fitting 5 folds for each of 60 candidates, totalling 300 fits\n"
     ]
    },
    {
     "name": "stderr",
     "output_type": "stream",
     "text": [
      "[Parallel(n_jobs=-1)]: Using backend LokyBackend with 8 concurrent workers.\n",
      "[Parallel(n_jobs=-1)]: Done  34 tasks      | elapsed:  1.6min\n",
      "[Parallel(n_jobs=-1)]: Done 184 tasks      | elapsed:  6.7min\n",
      "[Parallel(n_jobs=-1)]: Done 300 out of 300 | elapsed: 10.7min finished\n"
     ]
    },
    {
     "name": "stdout",
     "output_type": "stream",
     "text": [
      "Best accuracy: 0.841\n",
      "\n",
      "Best params:\n",
      " {'clf__C': 0.3, 'clf__loss': 'squared_hinge', 'clf__penalty': 'l2', 'clf__tol': 1e-07}\n"
     ]
    }
   ],
   "source": [
    "#pipeline for SVC pos_tag\n",
    "\n",
    "pipe_svc_pos = Pipeline([\n",
    "    ('tfidf', TfidfVectorizer(min_df=10)),\n",
    "    ('clf',   LinearSVC()),\n",
    "])\n",
    "\n",
    "parameters_svc_pos = {\n",
    "    \"clf__penalty\": ['l2','l1'],\n",
    "    \"clf__loss\":['hinge','squared_hinge'],\n",
    "     \"clf__C\":[0.2,0.3,0.4],\n",
    "    \"clf__tol\":[1e-7,1e-6,1e-5,1e-4,1e-3]\n",
    "}\n",
    "\n",
    "gs_svc_pos = GridSearchCV(estimator=pipe_svc_pos,\n",
    "            param_grid=parameters_svc_pos,\n",
    "            scoring='accuracy',\n",
    "            cv=KFold(5,shuffle=True,random_state=42), \n",
    "            return_train_score = True, verbose=1,n_jobs=-1)\n",
    "\n",
    "# Fit using grid search\n",
    "best_model = gs_svc_pos.fit(X_train_pos, y_train_pos)\n",
    "\n",
    "# Best accuracy\n",
    "print('Best accuracy: %.3f' % gs_svc_pos.best_score_)\n",
    "\n",
    "# Best params\n",
    "print('\\nBest params:\\n', gs_svc_pos.best_params_)"
   ]
  },
  {
   "cell_type": "code",
   "execution_count": 24,
   "metadata": {},
   "outputs": [
    {
     "data": {
      "text/plain": [
       "0.008206223214558349"
      ]
     },
     "execution_count": 24,
     "metadata": {},
     "output_type": "execute_result"
    }
   ],
   "source": [
    "gs_logreg.cv_results_['std_test_score'][gs_logreg.best_index_]"
   ]
  },
  {
   "cell_type": "code",
   "execution_count": 25,
   "metadata": {},
   "outputs": [],
   "source": [
    "models = [gs_logreg,gs_nb,gs_svm,gs_sgd,gs_svc]\n",
    "models_pos = [gs_logreg_pos,gs_nb_pos,gs_svm_pos,gs_sgd_pos,gs_svc_pos]"
   ]
  },
  {
   "cell_type": "code",
   "execution_count": 26,
   "metadata": {},
   "outputs": [],
   "source": [
    "labels = ['Logistic Regression','Naive Bayes','SVM','SGD','LinearSVM']\n",
    "\n",
    "lemmatized_scores = []\n",
    "lemmatized_std = []\n",
    "\n",
    "for model in models:\n",
    "    lemmatized_scores.append(model.best_score_)\n",
    "    lemmatized_std.append(model.cv_results_['std_test_score'][model.best_index_])\n",
    "\n",
    "pos_scores = []\n",
    "pos_std = []\n",
    "\n",
    "\n",
    "for model in models_pos:\n",
    "    pos_scores.append(model.best_score_)\n",
    "    pos_std.append(model.cv_results_['std_test_score'][model.best_index_])"
   ]
  },
  {
   "cell_type": "code",
   "execution_count": 27,
   "metadata": {},
   "outputs": [
    {
     "data": {
      "text/plain": [
       "[0.8364150943396227,\n",
       " 0.8300943396226416,\n",
       " 0.8336792452830188,\n",
       " 0.8068867924528302,\n",
       " 0.841320754716981]"
      ]
     },
     "execution_count": 27,
     "metadata": {},
     "output_type": "execute_result"
    }
   ],
   "source": [
    "pos_scores"
   ]
  },
  {
   "cell_type": "code",
   "execution_count": 28,
   "metadata": {},
   "outputs": [
    {
     "data": {
      "image/png": "[encoded data removed]",
      "text/plain": [
       "<Figure size 1800x720 with 1 Axes>"
      ]
     },
     "metadata": {
      "needs_background": "light"
     },
     "output_type": "display_data"
    }
   ],
   "source": [
    "fig, ax = plt.subplots(figsize=(25,10))\n",
    "n_groups = len(labels)\n",
    "index = np.arange(n_groups)\n",
    "bar_width = 0.35\n",
    "\n",
    "opacity = .7\n",
    "error_config = {'ecolor': '0.3'}\n",
    "\n",
    "normal_clf = ax.bar(index, lemmatized_scores, bar_width, alpha=opacity, color='g', yerr=lemmatized_std, error_kw=error_config, label='Without POS Tags')\n",
    "bagging_clf = ax.bar(index + bar_width, pos_scores, bar_width, alpha=opacity, color='c', yerr=pos_std, error_kw=error_config, label='With POS Tags')\n",
    "\n",
    "ax.set_xlabel('Classifiers')\n",
    "ax.set_ylabel('Accuracy scores with variance')\n",
    "ax.set_title('Comparison of accuracy with and without POS Tagging')\n",
    "ax.set_xticks(index + bar_width / 2)\n",
    "ax.set_xticklabels((labels))\n",
    "ax.legend()\n",
    "\n",
    "#fig.tight_layout()\n",
    "\n",
    "plt.show()"
   ]
  },
  {
   "cell_type": "code",
   "execution_count": null,
   "metadata": {},
   "outputs": [],
   "source": [
    "for models in mod"
   ]
  }
 ],
 "metadata": {
  "kernelspec": {
   "display_name": "Python 3",
   "language": "python",
   "name": "python3"
  },
  "language_info": {
   "codemirror_mode": {
    "name": "ipython",
    "version": 3
   },
   "file_extension": ".py",
   "mimetype": "text/x-python",
   "name": "python",
   "nbconvert_exporter": "python",
   "pygments_lexer": "ipython3",
   "version": "3.7.6"
  }
 },
 "nbformat": 4,
 "nbformat_minor": 4
}
